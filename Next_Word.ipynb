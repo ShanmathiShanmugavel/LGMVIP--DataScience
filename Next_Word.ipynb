{
  "nbformat": 4,
  "nbformat_minor": 0,
  "metadata": {
    "colab": {
      "provenance": [],
      "gpuType": "T4"
    },
    "kernelspec": {
      "name": "python3",
      "display_name": "Python 3"
    },
    "language_info": {
      "name": "python"
    },
    "accelerator": "GPU"
  },
  "cells": [
    {
      "cell_type": "code",
      "source": [
        "#importing required libraries\n",
        "\n",
        "import tensorflow as tf\n",
        "from tensorflow.keras.preprocessing.text import Tokenizer\n",
        "from tensorflow.keras.layers import Embedding, LSTM, Dense\n",
        "from tensorflow.keras.models import Sequential\n",
        "from tensorflow.keras.utils import to_categorical\n",
        "from tensorflow.keras.optimizers import Adam\n",
        "import pickle\n",
        "import numpy as np\n",
        "import os"
      ],
      "metadata": {
        "id": "8CLulZtJ58ln"
      },
      "execution_count": null,
      "outputs": []
    },
    {
      "cell_type": "code",
      "source": [
        "from google.colab import files\n",
        "uploaded = files.upload()"
      ],
      "metadata": {
        "colab": {
          "base_uri": "https://localhost:8080/",
          "height": 73
        },
        "id": "7BBfS2gj58hj",
        "outputId": "be806511-d185-4c65-c297-55ac143ca45c"
      },
      "execution_count": null,
      "outputs": [
        {
          "output_type": "display_data",
          "data": {
            "text/plain": [
              "<IPython.core.display.HTML object>"
            ],
            "text/html": [
              "\n",
              "     <input type=\"file\" id=\"files-c96aa668-5d78-43f9-919e-70bdd110f0bd\" name=\"files[]\" multiple disabled\n",
              "        style=\"border:none\" />\n",
              "     <output id=\"result-c96aa668-5d78-43f9-919e-70bdd110f0bd\">\n",
              "      Upload widget is only available when the cell has been executed in the\n",
              "      current browser session. Please rerun this cell to enable.\n",
              "      </output>\n",
              "      <script>// Copyright 2017 Google LLC\n",
              "//\n",
              "// Licensed under the Apache License, Version 2.0 (the \"License\");\n",
              "// you may not use this file except in compliance with the License.\n",
              "// You may obtain a copy of the License at\n",
              "//\n",
              "//      http://www.apache.org/licenses/LICENSE-2.0\n",
              "//\n",
              "// Unless required by applicable law or agreed to in writing, software\n",
              "// distributed under the License is distributed on an \"AS IS\" BASIS,\n",
              "// WITHOUT WARRANTIES OR CONDITIONS OF ANY KIND, either express or implied.\n",
              "// See the License for the specific language governing permissions and\n",
              "// limitations under the License.\n",
              "\n",
              "/**\n",
              " * @fileoverview Helpers for google.colab Python module.\n",
              " */\n",
              "(function(scope) {\n",
              "function span(text, styleAttributes = {}) {\n",
              "  const element = document.createElement('span');\n",
              "  element.textContent = text;\n",
              "  for (const key of Object.keys(styleAttributes)) {\n",
              "    element.style[key] = styleAttributes[key];\n",
              "  }\n",
              "  return element;\n",
              "}\n",
              "\n",
              "// Max number of bytes which will be uploaded at a time.\n",
              "const MAX_PAYLOAD_SIZE = 100 * 1024;\n",
              "\n",
              "function _uploadFiles(inputId, outputId) {\n",
              "  const steps = uploadFilesStep(inputId, outputId);\n",
              "  const outputElement = document.getElementById(outputId);\n",
              "  // Cache steps on the outputElement to make it available for the next call\n",
              "  // to uploadFilesContinue from Python.\n",
              "  outputElement.steps = steps;\n",
              "\n",
              "  return _uploadFilesContinue(outputId);\n",
              "}\n",
              "\n",
              "// This is roughly an async generator (not supported in the browser yet),\n",
              "// where there are multiple asynchronous steps and the Python side is going\n",
              "// to poll for completion of each step.\n",
              "// This uses a Promise to block the python side on completion of each step,\n",
              "// then passes the result of the previous step as the input to the next step.\n",
              "function _uploadFilesContinue(outputId) {\n",
              "  const outputElement = document.getElementById(outputId);\n",
              "  const steps = outputElement.steps;\n",
              "\n",
              "  const next = steps.next(outputElement.lastPromiseValue);\n",
              "  return Promise.resolve(next.value.promise).then((value) => {\n",
              "    // Cache the last promise value to make it available to the next\n",
              "    // step of the generator.\n",
              "    outputElement.lastPromiseValue = value;\n",
              "    return next.value.response;\n",
              "  });\n",
              "}\n",
              "\n",
              "/**\n",
              " * Generator function which is called between each async step of the upload\n",
              " * process.\n",
              " * @param {string} inputId Element ID of the input file picker element.\n",
              " * @param {string} outputId Element ID of the output display.\n",
              " * @return {!Iterable<!Object>} Iterable of next steps.\n",
              " */\n",
              "function* uploadFilesStep(inputId, outputId) {\n",
              "  const inputElement = document.getElementById(inputId);\n",
              "  inputElement.disabled = false;\n",
              "\n",
              "  const outputElement = document.getElementById(outputId);\n",
              "  outputElement.innerHTML = '';\n",
              "\n",
              "  const pickedPromise = new Promise((resolve) => {\n",
              "    inputElement.addEventListener('change', (e) => {\n",
              "      resolve(e.target.files);\n",
              "    });\n",
              "  });\n",
              "\n",
              "  const cancel = document.createElement('button');\n",
              "  inputElement.parentElement.appendChild(cancel);\n",
              "  cancel.textContent = 'Cancel upload';\n",
              "  const cancelPromise = new Promise((resolve) => {\n",
              "    cancel.onclick = () => {\n",
              "      resolve(null);\n",
              "    };\n",
              "  });\n",
              "\n",
              "  // Wait for the user to pick the files.\n",
              "  const files = yield {\n",
              "    promise: Promise.race([pickedPromise, cancelPromise]),\n",
              "    response: {\n",
              "      action: 'starting',\n",
              "    }\n",
              "  };\n",
              "\n",
              "  cancel.remove();\n",
              "\n",
              "  // Disable the input element since further picks are not allowed.\n",
              "  inputElement.disabled = true;\n",
              "\n",
              "  if (!files) {\n",
              "    return {\n",
              "      response: {\n",
              "        action: 'complete',\n",
              "      }\n",
              "    };\n",
              "  }\n",
              "\n",
              "  for (const file of files) {\n",
              "    const li = document.createElement('li');\n",
              "    li.append(span(file.name, {fontWeight: 'bold'}));\n",
              "    li.append(span(\n",
              "        `(${file.type || 'n/a'}) - ${file.size} bytes, ` +\n",
              "        `last modified: ${\n",
              "            file.lastModifiedDate ? file.lastModifiedDate.toLocaleDateString() :\n",
              "                                    'n/a'} - `));\n",
              "    const percent = span('0% done');\n",
              "    li.appendChild(percent);\n",
              "\n",
              "    outputElement.appendChild(li);\n",
              "\n",
              "    const fileDataPromise = new Promise((resolve) => {\n",
              "      const reader = new FileReader();\n",
              "      reader.onload = (e) => {\n",
              "        resolve(e.target.result);\n",
              "      };\n",
              "      reader.readAsArrayBuffer(file);\n",
              "    });\n",
              "    // Wait for the data to be ready.\n",
              "    let fileData = yield {\n",
              "      promise: fileDataPromise,\n",
              "      response: {\n",
              "        action: 'continue',\n",
              "      }\n",
              "    };\n",
              "\n",
              "    // Use a chunked sending to avoid message size limits. See b/62115660.\n",
              "    let position = 0;\n",
              "    do {\n",
              "      const length = Math.min(fileData.byteLength - position, MAX_PAYLOAD_SIZE);\n",
              "      const chunk = new Uint8Array(fileData, position, length);\n",
              "      position += length;\n",
              "\n",
              "      const base64 = btoa(String.fromCharCode.apply(null, chunk));\n",
              "      yield {\n",
              "        response: {\n",
              "          action: 'append',\n",
              "          file: file.name,\n",
              "          data: base64,\n",
              "        },\n",
              "      };\n",
              "\n",
              "      let percentDone = fileData.byteLength === 0 ?\n",
              "          100 :\n",
              "          Math.round((position / fileData.byteLength) * 100);\n",
              "      percent.textContent = `${percentDone}% done`;\n",
              "\n",
              "    } while (position < fileData.byteLength);\n",
              "  }\n",
              "\n",
              "  // All done.\n",
              "  yield {\n",
              "    response: {\n",
              "      action: 'complete',\n",
              "    }\n",
              "  };\n",
              "}\n",
              "\n",
              "scope.google = scope.google || {};\n",
              "scope.google.colab = scope.google.colab || {};\n",
              "scope.google.colab._files = {\n",
              "  _uploadFiles,\n",
              "  _uploadFilesContinue,\n",
              "};\n",
              "})(self);\n",
              "</script> "
            ]
          },
          "metadata": {}
        },
        {
          "output_type": "stream",
          "name": "stdout",
          "text": [
            "Saving next word.txt to next word.txt\n"
          ]
        }
      ]
    },
    {
      "cell_type": "code",
      "source": [
        "#load and pre-process the data\n",
        "\n",
        "file = open(\"next word.txt\", \"r\", encoding = \"utf8\")\n",
        "\n",
        "# store file in list\n",
        "lines = []\n",
        "for i in file:\n",
        "    lines.append(i)\n",
        "\n",
        "# Convert list to string\n",
        "data = \"\"\n",
        "for i in lines:\n",
        "  data = ' '. join(lines)\n",
        "\n",
        "#replace unnecessary stuff with space\n",
        "data = data.replace('\\n', '').replace('\\r', '').replace('\\ufeff', '').replace('“','').replace('”','')  #new line, carriage return, unicode character --> replace by space\n",
        "\n",
        "#remove unnecessary spaces\n",
        "data = data.split()\n",
        "data = ' '.join(data)\n",
        "data[:500]"
      ],
      "metadata": {
        "colab": {
          "base_uri": "https://localhost:8080/",
          "height": 70
        },
        "id": "zTqWmn_V58e8",
        "outputId": "fda6ebe3-ccdb-42dc-fad0-75a55d94f115"
      },
      "execution_count": null,
      "outputs": [
        {
          "output_type": "execute_result",
          "data": {
            "text/plain": [
              "\"Project Gutenberg's The Adventures of Sherlock Holmes, by Arthur Conan Doyle This eBook is for the use of anyone anywhere at no cost and with almost no restrictions whatsoever. You may copy it, give it away or re-use it under the terms of the Project Gutenberg License included with this eBook or online at www.gutenberg.net Title: The Adventures of Sherlock Holmes Author: Arthur Conan Doyle Release Date: November 29, 2002 [EBook #1661] Last Updated: May 20, 2019 Language: English Character set en\""
            ],
            "application/vnd.google.colaboratory.intrinsic+json": {
              "type": "string"
            }
          },
          "metadata": {},
          "execution_count": 4
        }
      ]
    },
    {
      "cell_type": "code",
      "source": [
        "len(data)"
      ],
      "metadata": {
        "colab": {
          "base_uri": "https://localhost:8080/"
        },
        "id": "fcAUmAEg58ar",
        "outputId": "16f8dd4a-d203-499f-b4db-18f61ddc01e6"
      },
      "execution_count": null,
      "outputs": [
        {
          "output_type": "execute_result",
          "data": {
            "text/plain": [
              "573660"
            ]
          },
          "metadata": {},
          "execution_count": 5
        }
      ]
    },
    {
      "cell_type": "code",
      "source": [
        "#apply tokenizer\n",
        "\n",
        "tokenizer = Tokenizer()\n",
        "tokenizer.fit_on_texts([data])\n",
        "\n",
        "# saving the tokenizer for predict function\n",
        "pickle.dump(tokenizer, open('token.pkl', 'wb'))\n",
        "\n",
        "sequence_data = tokenizer.texts_to_sequences([data])[0]\n",
        "sequence_data[:15]"
      ],
      "metadata": {
        "colab": {
          "base_uri": "https://localhost:8080/"
        },
        "id": "QlKYdapa58Wy",
        "outputId": "f9187347-e953-40c4-81c5-7f9f13fd16f7"
      },
      "execution_count": null,
      "outputs": [
        {
          "output_type": "execute_result",
          "data": {
            "text/plain": [
              "[142, 4680, 1, 986, 5, 125, 33, 46, 556, 2164, 2165, 27, 987, 14, 22]"
            ]
          },
          "metadata": {},
          "execution_count": 6
        }
      ]
    },
    {
      "cell_type": "code",
      "source": [
        "len(sequence_data)"
      ],
      "metadata": {
        "colab": {
          "base_uri": "https://localhost:8080/"
        },
        "id": "Y9KZmZB1-21t",
        "outputId": "d84b993f-7a84-491b-b5ef-716cee6e704d"
      },
      "execution_count": null,
      "outputs": [
        {
          "output_type": "execute_result",
          "data": {
            "text/plain": [
              "108958"
            ]
          },
          "metadata": {},
          "execution_count": 7
        }
      ]
    },
    {
      "cell_type": "code",
      "source": [
        "vocab_size = len(tokenizer.word_index) + 1\n",
        "print(vocab_size)"
      ],
      "metadata": {
        "colab": {
          "base_uri": "https://localhost:8080/"
        },
        "id": "0Z3KVOGh--7M",
        "outputId": "8e82222d-8358-45d0-b3cc-243d47a6f5c5"
      },
      "execution_count": null,
      "outputs": [
        {
          "output_type": "stream",
          "name": "stdout",
          "text": [
            "8624\n"
          ]
        }
      ]
    },
    {
      "cell_type": "code",
      "source": [
        "sequences = []\n",
        "\n",
        "for i in range(3, len(sequence_data)):\n",
        "    words = sequence_data[i-3:i+1]\n",
        "    sequences.append(words)\n",
        "\n",
        "print(\"The Adventures of Sherlock Holmes: \", len(sequences))\n",
        "sequences = np.array(sequences)\n",
        "sequences[:10]"
      ],
      "metadata": {
        "colab": {
          "base_uri": "https://localhost:8080/"
        },
        "id": "I6H2ltvC_PMZ",
        "outputId": "6a7651be-872c-4dad-8ae9-a7cc7472ab7b"
      },
      "execution_count": null,
      "outputs": [
        {
          "output_type": "stream",
          "name": "stdout",
          "text": [
            "The Adventures of Sherlock Holmes:  108955\n"
          ]
        },
        {
          "output_type": "execute_result",
          "data": {
            "text/plain": [
              "array([[ 142, 4680,    1,  986],\n",
              "       [4680,    1,  986,    5],\n",
              "       [   1,  986,    5,  125],\n",
              "       [ 986,    5,  125,   33],\n",
              "       [   5,  125,   33,   46],\n",
              "       [ 125,   33,   46,  556],\n",
              "       [  33,   46,  556, 2164],\n",
              "       [  46,  556, 2164, 2165],\n",
              "       [ 556, 2164, 2165,   27],\n",
              "       [2164, 2165,   27,  987]])"
            ]
          },
          "metadata": {},
          "execution_count": 9
        }
      ]
    },
    {
      "cell_type": "code",
      "source": [
        "X = []\n",
        "y = []\n",
        "\n",
        "for i in sequences:\n",
        "    X.append(i[0:3])\n",
        "    y.append(i[3])\n",
        "\n",
        "X = np.array(X)\n",
        "y = np.array(y)"
      ],
      "metadata": {
        "id": "Lc3T9__n_XJb"
      },
      "execution_count": null,
      "outputs": []
    },
    {
      "cell_type": "code",
      "source": [
        "print(\"Data: \", X[:10])\n",
        "print(\"Response: \", y[:10])"
      ],
      "metadata": {
        "id": "27O0t0fE_XGR",
        "colab": {
          "base_uri": "https://localhost:8080/"
        },
        "outputId": "ada7248c-074f-4368-9317-1e9f329cc9a7"
      },
      "execution_count": null,
      "outputs": [
        {
          "output_type": "stream",
          "name": "stdout",
          "text": [
            "Data:  [[ 142 4680    1]\n",
            " [4680    1  986]\n",
            " [   1  986    5]\n",
            " [ 986    5  125]\n",
            " [   5  125   33]\n",
            " [ 125   33   46]\n",
            " [  33   46  556]\n",
            " [  46  556 2164]\n",
            " [ 556 2164 2165]\n",
            " [2164 2165   27]]\n",
            "Response:  [ 986    5  125   33   46  556 2164 2165   27  987]\n"
          ]
        }
      ]
    },
    {
      "cell_type": "code",
      "source": [
        "y = to_categorical(y, num_classes=vocab_size)\n",
        "y[:5]"
      ],
      "metadata": {
        "id": "e-4qOlZd_iuX"
      },
      "execution_count": null,
      "outputs": []
    },
    {
      "cell_type": "code",
      "source": [
        "#creating the model\n",
        "\n",
        "model = Sequential()\n",
        "model.add(Embedding(vocab_size, 10, input_length=3))\n",
        "model.add(LSTM(1000, return_sequences=True))\n",
        "model.add(LSTM(1000))\n",
        "model.add(Dense(1000, activation=\"relu\"))\n",
        "model.add(Dense(vocab_size, activation=\"softmax\"))"
      ],
      "metadata": {
        "id": "AZDsQfb458Ti"
      },
      "execution_count": null,
      "outputs": []
    },
    {
      "cell_type": "code",
      "source": [
        "model.summary()"
      ],
      "metadata": {
        "colab": {
          "base_uri": "https://localhost:8080/"
        },
        "id": "K1CuQORx_zpp",
        "outputId": "63251ffa-08db-40e5-82cd-aebe9ec5125f"
      },
      "execution_count": null,
      "outputs": [
        {
          "output_type": "stream",
          "name": "stdout",
          "text": [
            "Model: \"sequential\"\n",
            "_________________________________________________________________\n",
            " Layer (type)                Output Shape              Param #   \n",
            "=================================================================\n",
            " embedding (Embedding)       (None, 3, 10)             86240     \n",
            "                                                                 \n",
            " lstm (LSTM)                 (None, 3, 1000)           4044000   \n",
            "                                                                 \n",
            " lstm_1 (LSTM)               (None, 1000)              8004000   \n",
            "                                                                 \n",
            " dense (Dense)               (None, 1000)              1001000   \n",
            "                                                                 \n",
            " dense_1 (Dense)             (None, 8624)              8632624   \n",
            "                                                                 \n",
            "=================================================================\n",
            "Total params: 21,767,864\n",
            "Trainable params: 21,767,864\n",
            "Non-trainable params: 0\n",
            "_________________________________________________________________\n"
          ]
        }
      ]
    },
    {
      "cell_type": "code",
      "source": [
        "#plot the model\n",
        "\n",
        "from tensorflow import keras\n",
        "from keras.utils.vis_utils import plot_model\n",
        "\n",
        "keras.utils.plot_model(model, to_file='plot.png', show_layer_names=True)"
      ],
      "metadata": {
        "colab": {
          "base_uri": "https://localhost:8080/",
          "height": 564
        },
        "id": "UeXXyTGA58PP",
        "outputId": "0277a38e-b8f2-44f3-df57-65797660e576"
      },
      "execution_count": null,
      "outputs": [
        {
          "output_type": "execute_result",
          "data": {
            "image/png": "[encoded data removed]",
            "text/plain": [
              "<IPython.core.display.Image object>"
            ]
          },
          "metadata": {},
          "execution_count": 15
        }
      ]
    },
    {
      "cell_type": "code",
      "source": [
        "from tensorflow.keras.callbacks import ModelCheckpoint\n",
        "\n",
        "checkpoint = ModelCheckpoint(\"next_words.h5\", monitor='loss', verbose=1, save_best_only=True)\n",
        "model.compile(loss=\"categorical_crossentropy\", optimizer=Adam(learning_rate=0.001))\n",
        "model.fit(X, y, epochs=100, batch_size=64, callbacks=[checkpoint])"
      ],
      "metadata": {
        "colab": {
          "base_uri": "https://localhost:8080/"
        },
        "id": "PdcbPXFE9JCE",
        "outputId": "b174f063-cfee-4c53-9a3c-a4ca0f8f2d56"
      },
      "execution_count": null,
      "outputs": [
        {
          "metadata": {
            "tags": null
          },
          "name": "stdout",
          "output_type": "stream",
          "text": [
            "Epoch 1/100\n",
            "1703/1703 [==============================] - ETA: 0s - loss: 6.3953\n",
            "Epoch 1: loss improved from inf to 6.39535, saving model to next_words.h5\n",
            "1703/1703 [==============================] - 43s 20ms/step - loss: 6.3953\n",
            "Epoch 2/100\n",
            "1703/1703 [==============================] - ETA: 0s - loss: 5.8105\n",
            "Epoch 2: loss improved from 6.39535 to 5.81047, saving model to next_words.h5\n",
            "1703/1703 [==============================] - 27s 16ms/step - loss: 5.8105\n",
            "Epoch 3/100\n",
            "1703/1703 [==============================] - ETA: 0s - loss: 5.4863\n",
            "Epoch 3: loss improved from 5.81047 to 5.48626, saving model to next_words.h5\n",
            "1703/1703 [==============================] - 28s 16ms/step - loss: 5.4863\n",
            "Epoch 4/100\n",
            "1703/1703 [==============================] - ETA: 0s - loss: 5.2238\n",
            "Epoch 4: loss improved from 5.48626 to 5.22380, saving model to next_words.h5\n",
            "1703/1703 [==============================] - 27s 16ms/step - loss: 5.2238\n",
            "Epoch 5/100\n",
            "1703/1703 [==============================] - ETA: 0s - loss: 4.9980\n",
            "Epoch 5: loss improved from 5.22380 to 4.99802, saving model to next_words.h5\n",
            "1703/1703 [==============================] - 26s 16ms/step - loss: 4.9980\n",
            "Epoch 6/100\n",
            "1701/1703 [============================>.] - ETA: 0s - loss: 4.7783\n",
            "Epoch 6: loss improved from 4.99802 to 4.77810, saving model to next_words.h5\n",
            "1703/1703 [==============================] - 26s 16ms/step - loss: 4.7781\n",
            "Epoch 7/100\n",
            "1703/1703 [==============================] - ETA: 0s - loss: 4.5574\n",
            "Epoch 7: loss improved from 4.77810 to 4.55737, saving model to next_words.h5\n",
            "1703/1703 [==============================] - 27s 16ms/step - loss: 4.5574\n",
            "Epoch 8/100\n",
            "1702/1703 [============================>.] - ETA: 0s - loss: 4.3341\n",
            "Epoch 8: loss improved from 4.55737 to 4.33404, saving model to next_words.h5\n",
            "1703/1703 [==============================] - 26s 15ms/step - loss: 4.3340\n",
            "Epoch 9/100\n",
            "1703/1703 [==============================] - ETA: 0s - loss: 4.1094\n",
            "Epoch 9: loss improved from 4.33404 to 4.10939, saving model to next_words.h5\n",
            "1703/1703 [==============================] - 27s 16ms/step - loss: 4.1094\n",
            "Epoch 10/100\n",
            "1703/1703 [==============================] - ETA: 0s - loss: 3.8787\n",
            "Epoch 10: loss improved from 4.10939 to 3.87867, saving model to next_words.h5\n",
            "1703/1703 [==============================] - 27s 16ms/step - loss: 3.8787\n",
            "Epoch 11/100\n",
            "1703/1703 [==============================] - ETA: 0s - loss: 3.6458\n",
            "Epoch 11: loss improved from 3.87867 to 3.64578, saving model to next_words.h5\n",
            "1703/1703 [==============================] - 26s 15ms/step - loss: 3.6458\n",
            "Epoch 12/100\n",
            "1703/1703 [==============================] - ETA: 0s - loss: 3.4118\n",
            "Epoch 12: loss improved from 3.64578 to 3.41184, saving model to next_words.h5\n",
            "1703/1703 [==============================] - 26s 16ms/step - loss: 3.4118\n",
            "Epoch 13/100\n",
            "1700/1703 [============================>.] - ETA: 0s - loss: 3.1779\n",
            "Epoch 13: loss improved from 3.41184 to 3.17804, saving model to next_words.h5\n",
            "1703/1703 [==============================] - 26s 15ms/step - loss: 3.1780\n",
            "Epoch 14/100\n",
            "1703/1703 [==============================] - ETA: 0s - loss: 2.9509\n",
            "Epoch 14: loss improved from 3.17804 to 2.95090, saving model to next_words.h5\n",
            "1703/1703 [==============================] - 26s 16ms/step - loss: 2.9509\n",
            "Epoch 15/100\n",
            "1703/1703 [==============================] - ETA: 0s - loss: 2.7125\n",
            "Epoch 15: loss improved from 2.95090 to 2.71249, saving model to next_words.h5\n",
            "1703/1703 [==============================] - 26s 15ms/step - loss: 2.7125\n",
            "Epoch 16/100\n",
            "1702/1703 [============================>.] - ETA: 0s - loss: 2.4828\n",
            "Epoch 16: loss improved from 2.71249 to 2.48282, saving model to next_words.h5\n",
            "1703/1703 [==============================] - 31s 18ms/step - loss: 2.4828\n",
            "Epoch 17/100\n",
            "1701/1703 [============================>.] - ETA: 0s - loss: 2.2563\n",
            "Epoch 17: loss improved from 2.48282 to 2.25643, saving model to next_words.h5\n",
            "1703/1703 [==============================] - 26s 15ms/step - loss: 2.2564\n",
            "Epoch 18/100\n",
            "1701/1703 [============================>.] - ETA: 0s - loss: 2.0336\n",
            "Epoch 18: loss improved from 2.25643 to 2.03342, saving model to next_words.h5\n",
            "1703/1703 [==============================] - 26s 15ms/step - loss: 2.0334\n",
            "Epoch 19/100\n",
            "1703/1703 [==============================] - ETA: 0s - loss: 1.8257\n",
            "Epoch 19: loss improved from 2.03342 to 1.82566, saving model to next_words.h5\n",
            "1703/1703 [==============================] - 26s 16ms/step - loss: 1.8257\n",
            "Epoch 20/100\n",
            "1703/1703 [==============================] - ETA: 0s - loss: 1.6327\n",
            "Epoch 20: loss improved from 1.82566 to 1.63272, saving model to next_words.h5\n",
            "1703/1703 [==============================] - 28s 16ms/step - loss: 1.6327\n",
            "Epoch 21/100\n",
            "1703/1703 [==============================] - ETA: 0s - loss: 1.4605\n",
            "Epoch 21: loss improved from 1.63272 to 1.46045, saving model to next_words.h5\n",
            "1703/1703 [==============================] - 26s 15ms/step - loss: 1.4605\n",
            "Epoch 22/100\n",
            "1702/1703 [============================>.] - ETA: 0s - loss: 1.3059\n",
            "Epoch 22: loss improved from 1.46045 to 1.30585, saving model to next_words.h5\n",
            "1703/1703 [==============================] - 26s 15ms/step - loss: 1.3058\n",
            "Epoch 23/100\n",
            "1702/1703 [============================>.] - ETA: 0s - loss: 1.1848\n",
            "Epoch 23: loss improved from 1.30585 to 1.18480, saving model to next_words.h5\n",
            "1703/1703 [==============================] - 26s 16ms/step - loss: 1.1848\n",
            "Epoch 24/100\n",
            "1701/1703 [============================>.] - ETA: 0s - loss: 1.0698\n",
            "Epoch 24: loss improved from 1.18480 to 1.07017, saving model to next_words.h5\n",
            "1703/1703 [==============================] - 26s 15ms/step - loss: 1.0702\n",
            "Epoch 25/100\n",
            "1700/1703 [============================>.] - ETA: 0s - loss: 0.9854\n",
            "Epoch 25: loss improved from 1.07017 to 0.98555, saving model to next_words.h5\n",
            "1703/1703 [==============================] - 26s 15ms/step - loss: 0.9855\n",
            "Epoch 26/100\n",
            "1702/1703 [============================>.] - ETA: 0s - loss: 0.9110\n",
            "Epoch 26: loss improved from 0.98555 to 0.91114, saving model to next_words.h5\n",
            "1703/1703 [==============================] - 31s 18ms/step - loss: 0.9111\n",
            "Epoch 27/100\n",
            "1702/1703 [============================>.] - ETA: 0s - loss: 0.8500\n",
            "Epoch 27: loss improved from 0.91114 to 0.85003, saving model to next_words.h5\n",
            "1703/1703 [==============================] - 26s 15ms/step - loss: 0.8500\n",
            "Epoch 28/100\n",
            "1703/1703 [==============================] - ETA: 0s - loss: 0.8011\n",
            "Epoch 28: loss improved from 0.85003 to 0.80110, saving model to next_words.h5\n",
            "1703/1703 [==============================] - 26s 15ms/step - loss: 0.8011\n",
            "Epoch 29/100\n",
            "1700/1703 [============================>.] - ETA: 0s - loss: 0.7600\n",
            "Epoch 29: loss improved from 0.80110 to 0.76002, saving model to next_words.h5\n",
            "1703/1703 [==============================] - 26s 15ms/step - loss: 0.7600\n",
            "Epoch 30/100\n",
            "1701/1703 [============================>.] - ETA: 0s - loss: 0.7209\n",
            "Epoch 30: loss improved from 0.76002 to 0.72086, saving model to next_words.h5\n",
            "1703/1703 [==============================] - 26s 15ms/step - loss: 0.7209\n",
            "Epoch 31/100\n",
            "1701/1703 [============================>.] - ETA: 0s - loss: 0.6937\n",
            "Epoch 31: loss improved from 0.72086 to 0.69381, saving model to next_words.h5\n",
            "1703/1703 [==============================] - 26s 15ms/step - loss: 0.6938\n",
            "Epoch 32/100\n",
            "1703/1703 [==============================] - ETA: 0s - loss: 0.6679\n",
            "Epoch 32: loss improved from 0.69381 to 0.66786, saving model to next_words.h5\n",
            "1703/1703 [==============================] - 31s 18ms/step - loss: 0.6679\n",
            "Epoch 33/100\n",
            "1702/1703 [============================>.] - ETA: 0s - loss: 0.6444\n",
            "Epoch 33: loss improved from 0.66786 to 0.64445, saving model to next_words.h5\n",
            "1703/1703 [==============================] - 27s 16ms/step - loss: 0.6444\n",
            "Epoch 34/100\n",
            "1702/1703 [============================>.] - ETA: 0s - loss: 0.6301\n",
            "Epoch 34: loss improved from 0.64445 to 0.63014, saving model to next_words.h5\n",
            "1703/1703 [==============================] - 26s 15ms/step - loss: 0.6301\n",
            "Epoch 35/100\n",
            "1703/1703 [==============================] - ETA: 0s - loss: 0.6094\n",
            "Epoch 35: loss improved from 0.63014 to 0.60944, saving model to next_words.h5\n",
            "1703/1703 [==============================] - 26s 15ms/step - loss: 0.6094\n",
            "Epoch 36/100\n",
            "1701/1703 [============================>.] - ETA: 0s - loss: 0.5943\n",
            "Epoch 36: loss improved from 0.60944 to 0.59438, saving model to next_words.h5\n",
            "1703/1703 [==============================] - 26s 15ms/step - loss: 0.5944\n",
            "Epoch 37/100\n",
            "1703/1703 [==============================] - ETA: 0s - loss: 0.5802\n",
            "Epoch 37: loss improved from 0.59438 to 0.58016, saving model to next_words.h5\n",
            "1703/1703 [==============================] - 31s 18ms/step - loss: 0.5802\n",
            "Epoch 38/100\n",
            "1701/1703 [============================>.] - ETA: 0s - loss: 0.5670\n",
            "Epoch 38: loss improved from 0.58016 to 0.56701, saving model to next_words.h5\n",
            "1703/1703 [==============================] - 27s 16ms/step - loss: 0.5670\n",
            "Epoch 39/100\n",
            "1702/1703 [============================>.] - ETA: 0s - loss: 0.5538\n",
            "Epoch 39: loss improved from 0.56701 to 0.55375, saving model to next_words.h5\n",
            "1703/1703 [==============================] - 26s 15ms/step - loss: 0.5538\n",
            "Epoch 40/100\n",
            "1702/1703 [============================>.] - ETA: 0s - loss: 0.5461\n",
            "Epoch 40: loss improved from 0.55375 to 0.54617, saving model to next_words.h5\n",
            "1703/1703 [==============================] - 26s 16ms/step - loss: 0.5462\n",
            "Epoch 41/100\n",
            "1703/1703 [==============================] - ETA: 0s - loss: 0.5379\n",
            "Epoch 41: loss improved from 0.54617 to 0.53791, saving model to next_words.h5\n",
            "1703/1703 [==============================] - 31s 18ms/step - loss: 0.5379\n",
            "Epoch 42/100\n",
            "1700/1703 [============================>.] - ETA: 0s - loss: 0.5268\n",
            "Epoch 42: loss improved from 0.53791 to 0.52696, saving model to next_words.h5\n",
            "1703/1703 [==============================] - 26s 15ms/step - loss: 0.5270\n",
            "Epoch 43/100\n",
            "1703/1703 [==============================] - ETA: 0s - loss: 0.5188\n",
            "Epoch 43: loss improved from 0.52696 to 0.51880, saving model to next_words.h5\n",
            "1703/1703 [==============================] - 26s 15ms/step - loss: 0.5188\n",
            "Epoch 44/100\n",
            "1701/1703 [============================>.] - ETA: 0s - loss: 0.5135\n",
            "Epoch 44: loss improved from 0.51880 to 0.51372, saving model to next_words.h5\n",
            "1703/1703 [==============================] - 31s 18ms/step - loss: 0.5137\n",
            "Epoch 45/100\n",
            "1700/1703 [============================>.] - ETA: 0s - loss: 0.5054\n",
            "Epoch 45: loss improved from 0.51372 to 0.50547, saving model to next_words.h5\n",
            "1703/1703 [==============================] - 27s 16ms/step - loss: 0.5055\n",
            "Epoch 46/100\n",
            "1703/1703 [==============================] - ETA: 0s - loss: 0.4964\n",
            "Epoch 46: loss improved from 0.50547 to 0.49639, saving model to next_words.h5\n",
            "1703/1703 [==============================] - 31s 18ms/step - loss: 0.4964\n",
            "Epoch 47/100\n",
            "1702/1703 [============================>.] - ETA: 0s - loss: 0.4942\n",
            "Epoch 47: loss improved from 0.49639 to 0.49417, saving model to next_words.h5\n",
            "1703/1703 [==============================] - 32s 19ms/step - loss: 0.4942\n",
            "Epoch 48/100\n",
            "1703/1703 [==============================] - ETA: 0s - loss: 0.4812\n",
            "Epoch 48: loss improved from 0.49417 to 0.48125, saving model to next_words.h5\n",
            "1703/1703 [==============================] - 26s 16ms/step - loss: 0.4812\n",
            "Epoch 49/100\n",
            "1702/1703 [============================>.] - ETA: 0s - loss: 0.4796\n",
            "Epoch 49: loss improved from 0.48125 to 0.47965, saving model to next_words.h5\n",
            "1703/1703 [==============================] - 26s 16ms/step - loss: 0.4796\n",
            "Epoch 50/100\n",
            "1701/1703 [============================>.] - ETA: 0s - loss: 0.4728\n",
            "Epoch 50: loss improved from 0.47965 to 0.47272, saving model to next_words.h5\n",
            "1703/1703 [==============================] - 32s 19ms/step - loss: 0.4727\n",
            "Epoch 51/100\n",
            "1703/1703 [==============================] - ETA: 0s - loss: 0.4708\n",
            "Epoch 51: loss improved from 0.47272 to 0.47077, saving model to next_words.h5\n",
            "1703/1703 [==============================] - 27s 16ms/step - loss: 0.4708\n",
            "Epoch 52/100\n",
            "1700/1703 [============================>.] - ETA: 0s - loss: 0.4649\n",
            "Epoch 52: loss improved from 0.47077 to 0.46503, saving model to next_words.h5\n",
            "1703/1703 [==============================] - 26s 16ms/step - loss: 0.4650\n",
            "Epoch 53/100\n",
            "1702/1703 [============================>.] - ETA: 0s - loss: 0.4563\n",
            "Epoch 53: loss improved from 0.46503 to 0.45630, saving model to next_words.h5\n",
            "1703/1703 [==============================] - 32s 19ms/step - loss: 0.4563\n",
            "Epoch 54/100\n",
            "1703/1703 [==============================] - ETA: 0s - loss: 0.4560\n",
            "Epoch 54: loss improved from 0.45630 to 0.45603, saving model to next_words.h5\n",
            "1703/1703 [==============================] - 26s 15ms/step - loss: 0.4560\n",
            "Epoch 55/100\n",
            "1700/1703 [============================>.] - ETA: 0s - loss: 0.4517\n",
            "Epoch 55: loss improved from 0.45603 to 0.45200, saving model to next_words.h5\n",
            "1703/1703 [==============================] - 31s 18ms/step - loss: 0.4520\n",
            "Epoch 56/100\n",
            "1701/1703 [============================>.] - ETA: 0s - loss: 0.4487\n",
            "Epoch 56: loss improved from 0.45200 to 0.44876, saving model to next_words.h5\n",
            "1703/1703 [==============================] - 32s 19ms/step - loss: 0.4488\n",
            "Epoch 57/100\n",
            "1702/1703 [============================>.] - ETA: 0s - loss: 0.4424\n",
            "Epoch 57: loss improved from 0.44876 to 0.44236, saving model to next_words.h5\n",
            "1703/1703 [==============================] - 32s 19ms/step - loss: 0.4424\n",
            "Epoch 58/100\n",
            "1702/1703 [============================>.] - ETA: 0s - loss: 0.4400\n",
            "Epoch 58: loss improved from 0.44236 to 0.43990, saving model to next_words.h5\n",
            "1703/1703 [==============================] - 32s 19ms/step - loss: 0.4399\n",
            "Epoch 59/100\n",
            "1702/1703 [============================>.] - ETA: 0s - loss: 0.4336\n",
            "Epoch 59: loss improved from 0.43990 to 0.43355, saving model to next_words.h5\n",
            "1703/1703 [==============================] - 32s 19ms/step - loss: 0.4336\n",
            "Epoch 60/100\n",
            "1703/1703 [==============================] - ETA: 0s - loss: 0.4331\n",
            "Epoch 60: loss improved from 0.43355 to 0.43312, saving model to next_words.h5\n",
            "1703/1703 [==============================] - 32s 19ms/step - loss: 0.4331\n",
            "Epoch 61/100\n",
            "1700/1703 [============================>.] - ETA: 0s - loss: 0.4298\n",
            "Epoch 61: loss improved from 0.43312 to 0.42980, saving model to next_words.h5\n",
            "1703/1703 [==============================] - 32s 19ms/step - loss: 0.4298\n",
            "Epoch 62/100\n",
            "1702/1703 [============================>.] - ETA: 0s - loss: 0.4273\n",
            "Epoch 62: loss improved from 0.42980 to 0.42734, saving model to next_words.h5\n",
            "1703/1703 [==============================] - 31s 18ms/step - loss: 0.4273\n",
            "Epoch 63/100\n",
            "1702/1703 [============================>.] - ETA: 0s - loss: 0.4227\n",
            "Epoch 63: loss improved from 0.42734 to 0.42270, saving model to next_words.h5\n",
            "1703/1703 [==============================] - 32s 19ms/step - loss: 0.4227\n",
            "Epoch 64/100\n",
            "1703/1703 [==============================] - ETA: 0s - loss: 0.4171\n",
            "Epoch 64: loss improved from 0.42270 to 0.41710, saving model to next_words.h5\n",
            "1703/1703 [==============================] - 31s 18ms/step - loss: 0.4171\n",
            "Epoch 65/100\n",
            "1700/1703 [============================>.] - ETA: 0s - loss: 0.4189\n",
            "Epoch 65: loss did not improve from 0.41710\n",
            "1703/1703 [==============================] - 26s 15ms/step - loss: 0.4188\n",
            "Epoch 66/100\n",
            "1700/1703 [============================>.] - ETA: 0s - loss: 0.4169\n",
            "Epoch 66: loss improved from 0.41710 to 0.41685, saving model to next_words.h5\n",
            "1703/1703 [==============================] - 32s 19ms/step - loss: 0.4169\n",
            "Epoch 67/100\n",
            "1702/1703 [============================>.] - ETA: 0s - loss: 0.4106\n",
            "Epoch 67: loss improved from 0.41685 to 0.41054, saving model to next_words.h5\n",
            "1703/1703 [==============================] - 32s 19ms/step - loss: 0.4105\n",
            "Epoch 68/100\n",
            "1703/1703 [==============================] - ETA: 0s - loss: 0.4093\n",
            "Epoch 68: loss improved from 0.41054 to 0.40929, saving model to next_words.h5\n",
            "1703/1703 [==============================] - 32s 19ms/step - loss: 0.4093\n",
            "Epoch 69/100\n",
            "1701/1703 [============================>.] - ETA: 0s - loss: 0.4092\n",
            "Epoch 69: loss improved from 0.40929 to 0.40919, saving model to next_words.h5\n",
            "1703/1703 [==============================] - 32s 19ms/step - loss: 0.4092\n",
            "Epoch 70/100\n",
            "1701/1703 [============================>.] - ETA: 0s - loss: 0.4016\n",
            "Epoch 70: loss improved from 0.40919 to 0.40175, saving model to next_words.h5\n",
            "1703/1703 [==============================] - 31s 18ms/step - loss: 0.4017\n",
            "Epoch 71/100\n",
            "1701/1703 [============================>.] - ETA: 0s - loss: 0.4017\n",
            "Epoch 71: loss did not improve from 0.40175\n",
            "1703/1703 [==============================] - 26s 15ms/step - loss: 0.4018\n",
            "Epoch 72/100\n",
            "1702/1703 [============================>.] - ETA: 0s - loss: 0.4012\n",
            "Epoch 72: loss improved from 0.40175 to 0.40114, saving model to next_words.h5\n",
            "1703/1703 [==============================] - 35s 21ms/step - loss: 0.4011\n",
            "Epoch 73/100\n",
            "1700/1703 [============================>.] - ETA: 0s - loss: 0.4011\n",
            "Epoch 73: loss did not improve from 0.40114\n",
            "1703/1703 [==============================] - 26s 15ms/step - loss: 0.4013\n",
            "Epoch 74/100\n",
            "1700/1703 [============================>.] - ETA: 0s - loss: 0.3950\n",
            "Epoch 74: loss improved from 0.40114 to 0.39517, saving model to next_words.h5\n",
            "1703/1703 [==============================] - 32s 19ms/step - loss: 0.3952\n",
            "Epoch 75/100\n",
            "1703/1703 [==============================] - ETA: 0s - loss: 0.3955\n",
            "Epoch 75: loss did not improve from 0.39517\n",
            "1703/1703 [==============================] - 26s 15ms/step - loss: 0.3955\n",
            "Epoch 76/100\n",
            "1701/1703 [============================>.] - ETA: 0s - loss: 0.3897\n",
            "Epoch 76: loss improved from 0.39517 to 0.38994, saving model to next_words.h5\n",
            "1703/1703 [==============================] - 37s 22ms/step - loss: 0.3899\n",
            "Epoch 77/100\n",
            "1701/1703 [============================>.] - ETA: 0s - loss: 0.3907\n",
            "Epoch 77: loss did not improve from 0.38994\n",
            "1703/1703 [==============================] - 26s 15ms/step - loss: 0.3908\n",
            "Epoch 78/100\n",
            "1701/1703 [============================>.] - ETA: 0s - loss: 0.3923\n",
            "Epoch 78: loss did not improve from 0.38994\n",
            "1703/1703 [==============================] - 26s 15ms/step - loss: 0.3923\n",
            "Epoch 79/100\n",
            "1703/1703 [==============================] - ETA: 0s - loss: 0.3875\n",
            "Epoch 79: loss improved from 0.38994 to 0.38753, saving model to next_words.h5\n",
            "1703/1703 [==============================] - 32s 19ms/step - loss: 0.3875\n",
            "Epoch 80/100\n",
            "1703/1703 [==============================] - ETA: 0s - loss: 0.3890\n",
            "Epoch 80: loss did not improve from 0.38753\n",
            "1703/1703 [==============================] - 26s 15ms/step - loss: 0.3890\n",
            "Epoch 81/100\n",
            "1700/1703 [============================>.] - ETA: 0s - loss: 0.3832\n",
            "Epoch 81: loss improved from 0.38753 to 0.38329, saving model to next_words.h5\n",
            "1703/1703 [==============================] - 32s 19ms/step - loss: 0.3833\n",
            "Epoch 82/100\n",
            "1702/1703 [============================>.] - ETA: 0s - loss: 0.3833\n",
            "Epoch 82: loss did not improve from 0.38329\n",
            "1703/1703 [==============================] - 26s 15ms/step - loss: 0.3833\n",
            "Epoch 83/100\n",
            "1700/1703 [============================>.] - ETA: 0s - loss: 0.3794\n",
            "Epoch 83: loss improved from 0.38329 to 0.37970, saving model to next_words.h5\n",
            "1703/1703 [==============================] - 32s 19ms/step - loss: 0.3797\n",
            "Epoch 84/100\n",
            "1703/1703 [==============================] - ETA: 0s - loss: 0.3824\n",
            "Epoch 84: loss did not improve from 0.37970\n",
            "1703/1703 [==============================] - 26s 15ms/step - loss: 0.3824\n",
            "Epoch 85/100\n",
            "1703/1703 [==============================] - ETA: 0s - loss: 0.3794\n",
            "Epoch 85: loss improved from 0.37970 to 0.37936, saving model to next_words.h5\n",
            "1703/1703 [==============================] - 32s 19ms/step - loss: 0.3794\n",
            "Epoch 86/100\n",
            "1701/1703 [============================>.] - ETA: 0s - loss: 0.3743\n",
            "Epoch 86: loss improved from 0.37936 to 0.37435, saving model to next_words.h5\n",
            "1703/1703 [==============================] - 32s 19ms/step - loss: 0.3744\n",
            "Epoch 87/100\n",
            "1703/1703 [==============================] - ETA: 0s - loss: 0.3740\n",
            "Epoch 87: loss improved from 0.37435 to 0.37397, saving model to next_words.h5\n",
            "1703/1703 [==============================] - 32s 19ms/step - loss: 0.3740\n",
            "Epoch 88/100\n",
            "1702/1703 [============================>.] - ETA: 0s - loss: 0.3789\n",
            "Epoch 88: loss did not improve from 0.37397\n",
            "1703/1703 [==============================] - 26s 15ms/step - loss: 0.3790\n",
            "Epoch 89/100\n",
            "1701/1703 [============================>.] - ETA: 0s - loss: 0.3738\n",
            "Epoch 89: loss did not improve from 0.37397\n",
            "1703/1703 [==============================] - 26s 15ms/step - loss: 0.3741\n",
            "Epoch 90/100\n",
            "1702/1703 [============================>.] - ETA: 0s - loss: 0.3701\n",
            "Epoch 90: loss improved from 0.37397 to 0.37005, saving model to next_words.h5\n",
            "1703/1703 [==============================] - 37s 22ms/step - loss: 0.3700\n",
            "Epoch 91/100\n",
            "1702/1703 [============================>.] - ETA: 0s - loss: 0.3722\n",
            "Epoch 91: loss did not improve from 0.37005\n",
            "1703/1703 [==============================] - 26s 15ms/step - loss: 0.3721\n",
            "Epoch 92/100\n",
            "1702/1703 [============================>.] - ETA: 0s - loss: 0.3756\n",
            "Epoch 92: loss did not improve from 0.37005\n",
            "1703/1703 [==============================] - 26s 15ms/step - loss: 0.3757\n",
            "Epoch 93/100\n",
            "1703/1703 [==============================] - ETA: 0s - loss: 0.3665\n",
            "Epoch 93: loss improved from 0.37005 to 0.36650, saving model to next_words.h5\n",
            "1703/1703 [==============================] - 37s 22ms/step - loss: 0.3665\n",
            "Epoch 94/100\n",
            "1703/1703 [==============================] - ETA: 0s - loss: 0.3662\n",
            "Epoch 94: loss improved from 0.36650 to 0.36624, saving model to next_words.h5\n",
            "1703/1703 [==============================] - 32s 19ms/step - loss: 0.3662\n",
            "Epoch 95/100\n",
            "1703/1703 [==============================] - ETA: 0s - loss: 0.3662\n",
            "Epoch 95: loss improved from 0.36624 to 0.36622, saving model to next_words.h5\n",
            "1703/1703 [==============================] - 33s 19ms/step - loss: 0.3662\n",
            "Epoch 96/100\n",
            "1701/1703 [============================>.] - ETA: 0s - loss: 0.3699\n",
            "Epoch 96: loss did not improve from 0.36622\n",
            "1703/1703 [==============================] - 26s 15ms/step - loss: 0.3699\n",
            "Epoch 97/100\n",
            "1701/1703 [============================>.] - ETA: 0s - loss: 0.3656\n",
            "Epoch 97: loss improved from 0.36622 to 0.36574, saving model to next_words.h5\n",
            "1703/1703 [==============================] - 32s 19ms/step - loss: 0.3657\n",
            "Epoch 98/100\n",
            "1700/1703 [============================>.] - ETA: 0s - loss: 0.3581\n",
            "Epoch 98: loss improved from 0.36574 to 0.35832, saving model to next_words.h5\n",
            "1703/1703 [==============================] - 32s 19ms/step - loss: 0.3583\n",
            "Epoch 99/100\n",
            "1702/1703 [============================>.] - ETA: 0s - loss: 0.3636\n",
            "Epoch 99: loss did not improve from 0.35832\n",
            "1703/1703 [==============================] - 26s 15ms/step - loss: 0.3637\n",
            "Epoch 100/100\n",
            "1702/1703 [============================>.] - ETA: 0s - loss: 0.3646\n",
            "Epoch 100: loss did not improve from 0.35832\n",
            "1703/1703 [==============================] - 26s 15ms/step - loss: 0.3646\n"
          ]
        },
        {
          "output_type": "execute_result",
          "data": {
            "text/plain": [
              "<keras.callbacks.History at 0x78dbc8ad2f20>"
            ]
          },
          "metadata": {},
          "execution_count": 16
        }
      ]
    },
    {
      "cell_type": "code",
      "source": [
        "#prediction\n",
        "\n",
        "from tensorflow.keras.models import load_model\n",
        "import numpy as np\n",
        "import pickle\n",
        "\n",
        "# Load the model and tokenizer\n",
        "model = load_model('next_words.h5')\n",
        "tokenizer = pickle.load(open('token.pkl', 'rb'))\n",
        "\n",
        "def Predict_Next_Words(model, tokenizer, text):\n",
        "\n",
        "  sequence = tokenizer.texts_to_sequences([text])\n",
        "  sequence = np.array(sequence)\n",
        "  preds = np.argmax(model.predict(sequence))\n",
        "  predicted_word = \"\"\n",
        "\n",
        "  for key, value in tokenizer.word_index.items():\n",
        "      if value == preds:\n",
        "          predicted_word = key\n",
        "          break\n",
        "\n",
        "  print(predicted_word)\n",
        "  return predicted_word"
      ],
      "metadata": {
        "id": "_5nxYIbK58Ii"
      },
      "execution_count": null,
      "outputs": []
    },
    {
      "cell_type": "code",
      "source": [
        "while(True):\n",
        "  text = input(\"Enter your line: \")\n",
        "\n",
        "  if text == \"0\":\n",
        "      print(\"Execution completed.....\")\n",
        "      break\n",
        "\n",
        "  else:\n",
        "      try:\n",
        "          text = text.split(\" \")\n",
        "          text = text[-3:]\n",
        "          print(text)\n",
        "\n",
        "          Predict_Next_Words(model, tokenizer, text)\n",
        "\n",
        "      except Exception as e:\n",
        "        print(\"Error occurred: \",e)\n",
        "        continue"
      ],
      "metadata": {
        "colab": {
          "base_uri": "https://localhost:8080/"
        },
        "id": "P7SlWXVk58Es",
        "outputId": "d0ecae4e-71a1-4fbb-b2b5-04752f272ff3"
      },
      "execution_count": null,
      "outputs": [
        {
          "output_type": "stream",
          "name": "stdout",
          "text": [
            "Enter your line: STAR\n",
            "['STAR']\n",
            "1/1 [==============================] - 1s 687ms/step\n",
            "i\n",
            "Enter your line: START OF THIS PROJECT\n",
            "['OF', 'THIS', 'PROJECT']\n",
            "1/1 [==============================] - 1s 717ms/step\n",
            "gutenberg\n",
            "Enter your line: The Man with the Twisted Lip\n",
            "['the', 'Twisted', 'Lip']\n",
            "1/1 [==============================] - 0s 25ms/step\n",
            "well\n",
            "Enter your line: My own complete happiness,\n",
            "['own', 'complete', 'happiness,']\n",
            "1/1 [==============================] - 0s 19ms/step\n",
            "i\n",
            "Enter your line: night—it\n",
            "['night—it']\n",
            "1/1 [==============================] - 0s 19ms/step\n",
            "was\n"
          ]
        }
      ]
    }
  ]
}